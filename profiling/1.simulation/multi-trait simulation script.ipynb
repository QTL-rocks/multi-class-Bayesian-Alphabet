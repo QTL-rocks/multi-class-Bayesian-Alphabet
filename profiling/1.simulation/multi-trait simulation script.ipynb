{
 "cells": [
  {
   "cell_type": "code",
   "execution_count": null,
   "id": "golden-business",
   "metadata": {},
   "outputs": [],
   "source": [
    "using Statistics, Random, DataFrames, CSV,Plots,StatsBase,Distributions,LinearAlgebra"
   ]
  },
  {
   "cell_type": "code",
   "execution_count": null,
   "id": "northern-relay",
   "metadata": {},
   "outputs": [],
   "source": [
    "data_path = \"/Users/ziguiwang/Documents/Animal/Functional_Annoation/FAANG_simulation/largedata/GALLO_MSU_pig/\"\n",
    "result_path = \"/Users/ziguiwang/Documents/Animal/Functional_Annoation/FAANG_simulation/reports/fixed_marker/\"\n",
    "raw_genotype = CSV.read(data_path*\"pig_genotype.csv\", DataFrame);"
   ]
  },
  {
   "cell_type": "markdown",
   "id": "continental-google",
   "metadata": {},
   "source": [
    "### Read genotype, map, and annotation data"
   ]
  },
  {
   "cell_type": "code",
   "execution_count": null,
   "id": "sacred-profession",
   "metadata": {},
   "outputs": [],
   "source": [
    "new_genotype      = raw_genotype[!,2:end]; # remove the ID column\n",
    "ID                = raw_genotype[!,1];     # get the ID column\n",
    "\n",
    "annotation_map    = CSV.read(data_path*\"pig_FA.csv\", DataFrame);   # read annoation information for each SNP\n",
    "map_data          = CSV.read(data_path*\"pig_map.csv\", DataFrame);  # read map data for MSU pig data\n",
    "\n",
    "number_snp        = size(map_data,1);      # get number of SNPs\n",
    "number_individual = size(raw_genotype,1);  # get number of individuals"
   ]
  },
  {
   "cell_type": "markdown",
   "id": "increased-subscription",
   "metadata": {},
   "source": [
    "### Find the index for SNPs in each annotation class"
   ]
  },
  {
   "cell_type": "code",
   "execution_count": null,
   "id": "cross-addition",
   "metadata": {},
   "outputs": [],
   "source": [
    "Random.seed!(345)\n",
    "\n",
    "# get the snp index that belong to each genome annotation\n",
    "psudogene_index            = annotation_map[!,2] .== \"pseudogene\"\n",
    "protein_coding_index       = annotation_map[!,2] .== \"protein_coding\"\n",
    "processed_pseudogene_index = annotation_map[!,2] .== \"processed_pseudogene\"\n",
    "snoRNA_index               = annotation_map[!,2] .== \"snoRNA\"\n",
    "snRNA_index                = annotation_map[!,2] .== \"snRNA\"\n",
    "rRNA_index                 = annotation_map[!,2] .== \"rRNA\"\n",
    "miRNA_index                = annotation_map[!,2] .== \"miRNA\"\n",
    "miscRNA_index              = annotation_map[!,2] .== \"misc_RNA\"\n",
    "\n",
    "# get the snp name that belong to each genome annotation\n",
    "psudogene_snp              = annotation_map[psudogene_index,1];\n",
    "protein_coding_snp         = annotation_map[protein_coding_index,1];\n",
    "processed_pseudogene_snp   = annotation_map[processed_pseudogene_index,1];\n",
    "snoRNA_snp                 = annotation_map[snoRNA_index,1];\n",
    "snRNA_snp                  = annotation_map[snRNA_index,1];\n",
    "rRNA_snp                   = annotation_map[rRNA_index,1];\n",
    "miRNA_snp                  = annotation_map[miRNA_index,1];\n",
    "miscRNA_snp                = annotation_map[miscRNA_index,1];\n",
    "\n",
    "\n",
    "# find the index of the SNPs of each annotation class from the map data\n",
    "psudogene_snp_index        = findall(x->x in psudogene_snp , map_data[!,:snp]);\n",
    "protein_coding_snp_index   = findall(x->x in protein_coding_snp , map_data[!,:snp]);\n",
    "processed_pseudogene_snp_index   = findall(x->x in processed_pseudogene_snp , map_data[!,:snp]);\n",
    "snoRNA_snp_index                 = findall(x->x in snoRNA_snp , map_data[!,:snp]);\n",
    "\n",
    "snRNA_snp_index                  = findall(x->x in snRNA_snp , map_data[!,:snp]);\n",
    "rRNA_snp_index                   = findall(x->x in rRNA_snp , map_data[!,:snp]);\n",
    "miRNA_snp_index                  = findall(x->x in miRNA_snp , map_data[!,:snp]);\n",
    "miscRNA_snp_index                = findall(x->x in miscRNA_snp , map_data[!,:snp]);\n",
    "\n",
    "RNA_snp_index                    = vcat(snoRNA_snp_index,snRNA_snp_index,rRNA_snp_index,miRNA_snp_index,miscRNA_snp_index );\n",
    "intergenic_snp_index             = findall(!(x->x in annotation_map[!,:snp]) , map_data[!,:snp])\n",
    "\n",
    "# merge all non protein coding index together\n",
    "non_protein_coding_snp_index         = vcat(RNA_snp_index,psudogene_snp_index,processed_pseudogene_snp_index,intergenic_snp_index   );"
   ]
  },
  {
   "cell_type": "markdown",
   "id": "thermal-sunglasses",
   "metadata": {},
   "source": [
    "### set up simulation function"
   ]
  },
  {
   "cell_type": "code",
   "execution_count": null,
   "id": "incident-muslim",
   "metadata": {},
   "outputs": [],
   "source": [
    "function simulate_bv_multiple(new_genotype ,n,simu_qtl_index,id) \n",
    "\n",
    "    \n",
    "    number_qtl             = size(simu_qtl_index,1)\n",
    "    \n",
    "    simu_qtl_genotype      = Matrix(new_genotype[1:n,simu_qtl_index ]);\n",
    "    \n",
    "    sigma_g = 1.0 # assume the genetic variance equals to 1\n",
    "    \n",
    "    \n",
    "    # simulate qtl effect for two traits\n",
    "    simu_qtl_effect_trait1 = randn(number_qtl )* sigma_g\n",
    "    simu_qtl_effect_trait2 = randn(number_qtl )* sigma_g\n",
    "   \n",
    "    simu_qtl_effect        = [simu_qtl_effect_trait1 simu_qtl_effect_trait2]\n",
    "    \n",
    "    # set the genetic covariance\n",
    "    covG = 0.2  \n",
    "    G    = [1 covG                        # genetic covariance matrix\n",
    "            covG 1 ]\n",
    "    \n",
    "    GU   = cholesky(G).U\n",
    "    simu_qtl_effect = simu_qtl_effect*GU;\n",
    "    \n",
    "\n",
    "    # simulate breeding value\n",
    "    M   =  Matrix(new_genotype[:,1:end])\n",
    "    BV  =  M[:,simu_qtl_index]*simu_qtl_effect\n",
    "    \n",
    "    #std_matrix = Diagonal(vec(std(BV,dims = 1)))    # set varg = 1 for convenience\n",
    "    #BV         = BV*inv(std_matrix)\n",
    "    \n",
    "    \n",
    "\n",
    "    phenotype = DataFrame(ID = id, b1 = BV[:,1],b2 = BV[:,2])\n",
    "\n",
    "    return phenotype\n",
    "    \n",
    "end\n",
    "\n",
    "\n",
    "function simulate_phenotype_multiple( group1_bv ,group2_bv ,n, id,h2_trait1,h2_trait2)\n",
    "    \n",
    "    # generate the breeding value matrix\n",
    "    \n",
    "    BV      = Matrix(group1_bv[:,2:end]) + Matrix(group2_bv[:,2:end]) \n",
    "    \n",
    "    \n",
    "    # standardized the BV\n",
    "    \n",
    "    std_matrix = Diagonal(vec(std(BV,dims = 1)))    # set varg = 1 for convenience\n",
    "    BV         = BV*inv(std_matrix)\n",
    "\n",
    "    #println(\"varaince for trait 1 BV: \",var(BV[:,1]))\n",
    "    #println(\"varaince for trait 2 BV: \",var(BV[:,2]))\n",
    "    \n",
    "    println(\"covariance for BV is : \",cov(BV[:,1],BV[:,2]))\n",
    "    # simulate the residual \n",
    "    residual        = randn(n,2)\n",
    "    varg_trait1     = var(BV[:,1])\n",
    "    varg_trait2     = var(BV[:,2]) \n",
    "    vare_trait1     = (1 - h2_trait1)/h2_trait1 *varg_trait1       # residual variance\n",
    "    vare_trait2     = (1 - h2_trait2)/h2_trait2 *varg_trait2       # residual variance\n",
    "    \n",
    "    \n",
    "    #println(\"residual variance trait 1 is : \",vare_trait1)\n",
    "    #println(\"residual variance trait 2 is : \",vare_trait2)\n",
    "    \n",
    "    covR            = 0.0      \n",
    "    R               = [vare_trait1  covR                 # residual covariance matrix\n",
    "                       covR  vare_trait2]\n",
    "\n",
    "    RU       = cholesky(R).U\n",
    "    residual =  residual*RU;\n",
    "\n",
    "    # simulate phenotypes\n",
    "\n",
    "    pheno1  = BV[:,1] + residual[:,1];   \n",
    "    \n",
    "    pheno2  = BV[:,2] + residual[:,2];\n",
    "    \n",
    "    phenotype = DataFrame(ID = id, y1 = pheno1,y2 = pheno2, b1 = BV[:,1],b2 = BV[:,2])\n",
    "\n",
    "    return phenotype\n",
    "    \n",
    "end\n"
   ]
  },
  {
   "cell_type": "markdown",
   "id": "cleared-shooting",
   "metadata": {},
   "source": [
    "#### function test"
   ]
  },
  {
   "cell_type": "code",
   "execution_count": null,
   "id": "strategic-drilling",
   "metadata": {},
   "outputs": [],
   "source": [
    "group1_bv = simulate_bv_multiple(new_genotype ,number_individual,protein_coding_QTL_index,ID); # get the simulated breeding value in protein group\n",
    "group2_bv = simulate_bv_multiple(new_genotype ,number_individual,non_protein_coding_QTL_index,ID);# get the simulated breeding value in non protein group\n",
    "MSU_simu_pheno = simulate_phenotype_multiple( group1_bv ,group2_bv ,number_individual, ID, 0.6,0.8);"
   ]
  },
  {
   "cell_type": "markdown",
   "id": "resistant-revolution",
   "metadata": {},
   "source": [
    "### Start the simulation"
   ]
  },
  {
   "cell_type": "code",
   "execution_count": null,
   "id": "massive-payment",
   "metadata": {},
   "outputs": [],
   "source": [
    "Random.seed!(345)\n",
    "\n",
    "# simulate 2000 QTLs from protein coding SNPs\n",
    "protein_coding_QTL_index         = protein_coding_snp_index[sample(1:size(protein_coding_snp_index,1  ),2000,replace = false)];\n",
    "# simulate 100 QTLs from non protein coding SNPs\n",
    "non_protein_coding_QTL_index      = non_protein_coding_snp_index[sample(1:size(non_protein_coding_snp_index,1  ),100,replace = false)];\n",
    "# combine all QTLs index together\n",
    "candidate_QTL_index              = unique(vcat(protein_coding_QTL_index, non_protein_coding_QTL_index  ));"
   ]
  },
  {
   "cell_type": "code",
   "execution_count": null,
   "id": "amber-anatomy",
   "metadata": {
    "scrolled": true
   },
   "outputs": [],
   "source": [
    "pheno_index = 1\n",
    "\n",
    "for i in 1:30 # simulate 30 datasets\n",
    "    group1_bv = simulate_bv_multiple(new_genotype ,number_individual,protein_coding_QTL_index,ID); # get the simulated breeding value in protein group\n",
    "    group2_bv = simulate_bv_multiple(new_genotype ,number_individual,non_protein_coding_QTL_index,ID);# get the simulated breeding value in non protein group\n",
    "    MSU_simu_pheno = simulate_phenotype_multiple( group1_bv ,group2_bv ,number_individual, ID, 0.6,0.8); # combine two breeding value and simualte the phenotype\n",
    "    \n",
    "    #CSV.write( data_path*\"multi-trait-pheno/different_h2_MSU_multi_simu_pheno_\"*string(i)*\".csv\" , MSU_simu_pheno)\n",
    "end"
   ]
  },
  {
   "cell_type": "code",
   "execution_count": null,
   "id": "unlimited-baltimore",
   "metadata": {},
   "outputs": [],
   "source": [
    "MSU_simu_pheno = CSV.read(data_path*\"multi-trait-pheno/different_h2_MSU_multi_simu_pheno_3.csv\", DataFrame);\n",
    "cov(MSU_simu_pheno[!,:b1],MSU_simu_pheno[!,:b2])"
   ]
  },
  {
   "cell_type": "markdown",
   "id": "logical-feelings",
   "metadata": {},
   "source": [
    "### Check the marker variance and genetic variance of trait 1 (y1)"
   ]
  },
  {
   "cell_type": "code",
   "execution_count": null,
   "id": "acute-jurisdiction",
   "metadata": {},
   "outputs": [],
   "source": [
    "group1_bv = simulate_bv_multiple(new_genotype ,number_individual,protein_coding_QTL_index,ID); # get the simulated breeding value in protein group\n",
    "group2_bv = simulate_bv_multiple(new_genotype ,number_individual,non_protein_coding_QTL_index,ID);# get the simulated breeding value in non protein group\n",
    "MSU_simu_pheno = simulate_phenotype_multiple( group1_bv ,group2_bv ,number_individual, ID, 0.6,0.8);"
   ]
  },
  {
   "cell_type": "code",
   "execution_count": null,
   "id": "moving-termination",
   "metadata": {},
   "outputs": [],
   "source": [
    "# define some prior parameter\n",
    "\n",
    "geno = new_genotype\n",
    "pi = 0.99\n",
    "h2 = 0.5\n",
    "number_markers = size(geno,2) - 1 # compute the number of marker, -1 since the ID column\n",
    "\n",
    "# compute the genetic variance from the phenotypic variance\n",
    "phenotypic_var = var(MSU_simu_pheno[!,:y1])\n",
    "genetic_var = phenotypic_var*h2\n",
    "markerMeans = mean(Matrix(geno[!,2:end]), dims=1)\n",
    "p = markerMeans/2.0\n",
    "mean2pq = mean(2*transpose(p) .* (1 .- transpose(p) ))\n",
    "var_effects = genetic_var/(number_markers *(1-pi)* mean2pq )"
   ]
  },
  {
   "cell_type": "code",
   "execution_count": null,
   "id": "cathedral-dylan",
   "metadata": {},
   "outputs": [],
   "source": []
  }
 ],
 "metadata": {
  "kernelspec": {
   "display_name": "Julia 1.4.1",
   "language": "julia",
   "name": "julia-1.4"
  },
  "language_info": {
   "file_extension": ".jl",
   "mimetype": "application/julia",
   "name": "julia",
   "version": "1.4.1"
  }
 },
 "nbformat": 4,
 "nbformat_minor": 5
}
