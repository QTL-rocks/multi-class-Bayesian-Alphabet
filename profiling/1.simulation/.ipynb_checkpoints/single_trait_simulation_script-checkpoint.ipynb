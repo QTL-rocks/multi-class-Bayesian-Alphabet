{
 "cells": [
  {
   "cell_type": "code",
   "execution_count": 25,
   "id": "liked-protection",
   "metadata": {},
   "outputs": [],
   "source": [
    "using Statistics, Random, DataFrames, JWAS,CSV,Plots,StatsBase,Distributions"
   ]
  },
  {
   "cell_type": "code",
   "execution_count": 26,
   "id": "painted-sunrise",
   "metadata": {},
   "outputs": [],
   "source": [
    "data_path = \"/Users/ziguiwang/Documents/Animal/Functional_Annoation/FAANG_simulation/largedata/GALLO_MSU_pig/\"\n",
    "result_path = \"/Users/ziguiwang/Documents/Animal/Functional_Annoation/FAANG_simulation/reports/fixed_marker/\"\n",
    "raw_genotype = CSV.read(data_path*\"pig_genotype.csv\",DataFrame);"
   ]
  },
  {
   "cell_type": "markdown",
   "id": "cathedral-consensus",
   "metadata": {},
   "source": [
    "### Read the genotype, map file, and annotation file."
   ]
  },
  {
   "cell_type": "code",
   "execution_count": 27,
   "id": "labeled-cattle",
   "metadata": {},
   "outputs": [],
   "source": [
    "new_genotype      = raw_genotype[!,2:end]; # remove the ID column\n",
    "ID                = raw_genotype[!,1];     # get the ID column\n",
    "\n",
    "annotation_map    = CSV.read(data_path*\"pig_FA.csv\",DataFrame);   # read annoation information for each SNP\n",
    "map_data          = CSV.read(data_path*\"pig_map.csv\",DataFrame);  # read map data for MSU pig data\n",
    "\n",
    "number_snp        = size(map_data,1);      # get number of SNPs\n",
    "number_individual = size(raw_genotype,1);  # get number of individuals"
   ]
  },
  {
   "cell_type": "markdown",
   "id": "suburban-ancient",
   "metadata": {},
   "source": [
    "### Find the index for SNPs in each annotation class"
   ]
  },
  {
   "cell_type": "code",
   "execution_count": 28,
   "id": "rapid-sacrifice",
   "metadata": {},
   "outputs": [],
   "source": [
    "Random.seed!(345)\n",
    "\n",
    "# get the snp index that belong to each genome annotation\n",
    "psudogene_index            = annotation_map[!,2] .== \"pseudogene\"\n",
    "protein_coding_index       = annotation_map[!,2] .== \"protein_coding\"\n",
    "processed_pseudogene_index = annotation_map[!,2] .== \"processed_pseudogene\"\n",
    "snoRNA_index               = annotation_map[!,2] .== \"snoRNA\"\n",
    "snRNA_index                = annotation_map[!,2] .== \"snRNA\"\n",
    "rRNA_index                 = annotation_map[!,2] .== \"rRNA\"\n",
    "miRNA_index                = annotation_map[!,2] .== \"miRNA\"\n",
    "miscRNA_index              = annotation_map[!,2] .== \"misc_RNA\"\n",
    "\n",
    "# get the snp name that belong to each genome annotation\n",
    "psudogene_snp              = annotation_map[psudogene_index,1];\n",
    "protein_coding_snp         = annotation_map[protein_coding_index,1];\n",
    "processed_pseudogene_snp   = annotation_map[processed_pseudogene_index,1];\n",
    "snoRNA_snp                 = annotation_map[snoRNA_index,1];\n",
    "snRNA_snp                  = annotation_map[snRNA_index,1];\n",
    "rRNA_snp                   = annotation_map[rRNA_index,1];\n",
    "miRNA_snp                  = annotation_map[miRNA_index,1];\n",
    "miscRNA_snp                = annotation_map[miscRNA_index,1];\n",
    "\n",
    "# find the index of the SNPs of each annotation class from the map data\n",
    "psudogene_snp_index        = findall(x->x in psudogene_snp , map_data[!,:snp]);\n",
    "protein_coding_snp_index   = findall(x->x in protein_coding_snp , map_data[!,:snp]);\n",
    "processed_pseudogene_snp_index   = findall(x->x in processed_pseudogene_snp , map_data[!,:snp]);\n",
    "snoRNA_snp_index                 = findall(x->x in snoRNA_snp , map_data[!,:snp]);\n",
    "\n",
    "snRNA_snp_index                  = findall(x->x in snRNA_snp , map_data[!,:snp]);\n",
    "rRNA_snp_index                   = findall(x->x in rRNA_snp , map_data[!,:snp]);\n",
    "miRNA_snp_index                  = findall(x->x in miRNA_snp , map_data[!,:snp]);\n",
    "miscRNA_snp_index                = findall(x->x in miscRNA_snp , map_data[!,:snp]);\n",
    "\n",
    "RNA_snp_index                    = vcat(snoRNA_snp_index,snRNA_snp_index,rRNA_snp_index,miRNA_snp_index,miscRNA_snp_index );\n",
    "intergenic_snp_index             = findall(!(x->x in annotation_map[!,:snp]) , map_data[!,:snp])\n",
    "\n",
    "\n",
    "# merge all non protein coding index together\n",
    "non_protein_coding_snp_index         = vcat(RNA_snp_index,psudogene_snp_index,processed_pseudogene_snp_index,intergenic_snp_index   );"
   ]
  },
  {
   "cell_type": "markdown",
   "id": "direct-research",
   "metadata": {},
   "source": [
    "### Start the simulation"
   ]
  },
  {
   "cell_type": "code",
   "execution_count": 29,
   "id": "relative-verse",
   "metadata": {},
   "outputs": [
    {
     "data": {
      "text/plain": [
       "simulate_phenotypes (generic function with 1 method)"
      ]
     },
     "execution_count": 29,
     "metadata": {},
     "output_type": "execute_result"
    }
   ],
   "source": [
    "function simulate_phenotypes(new_genotype ,n,simu_qtl_index,id,group_number)\n",
    "    number_qtl             = size(simu_qtl_index,1)\n",
    "\n",
    "    simu_qtl_genotype      = Matrix(new_genotype[1:n,simu_qtl_index ]);\n",
    "    \n",
    "    sigma_g = 1.0    # assume the genetic variance equals to 1\n",
    "\n",
    "    simu_qtl_effect        = randn(number_qtl )* sigma_g\n",
    "    g                      = simu_qtl_genotype * simu_qtl_effect\n",
    "\n",
    "    println(\"varaince for g: \",var(g))\n",
    "\n",
    "    phenotypes = DataFrame(ID=id,g = g);\n",
    "\n",
    "end"
   ]
  },
  {
   "cell_type": "code",
   "execution_count": 30,
   "id": "refined-block",
   "metadata": {},
   "outputs": [
    {
     "name": "stdout",
     "output_type": "stream",
     "text": [
      "varaince for g: 36.30178217124499\n",
      "varaince for g: 684.3507730626027\n",
      "varaince for g: 0.9999999999999999\n",
      "varaince for y: 1.9532642710805328\n"
     ]
    }
   ],
   "source": [
    "# simulate 2000 QTLs from protein coding SNPs\n",
    "protein_coding_QTL_index         = protein_coding_snp_index[sample(1:size(protein_coding_snp_index,1  ),2000,replace = false)];\n",
    "# simulate 100 QTLs from non protein coding SNPs\n",
    "non_protein_coding_QTL_index     = non_protein_coding_snp_index[sample(1:size(non_protein_coding_snp_index,1  ),100,replace = false)];\n",
    "# combine all QTLs index together\n",
    "candidate_QTL_index              = unique(vcat(protein_coding_QTL_index, non_protein_coding_QTL_index  ));\n",
    "\n",
    "group1_bv = simulate_phenotypes(new_genotype ,number_individual,non_protein_coding_QTL_index,ID,1)\n",
    "group2_bv = simulate_phenotypes(new_genotype ,number_individual,protein_coding_QTL_index ,ID,2)\n",
    "\n",
    "\n",
    "h2 = 0.5\n",
    "\n",
    "overall_g = group1_bv[!,:g] + group2_bv[!,:g]\n",
    "overall_g = overall_g./std(overall_g)\n",
    "varg     = var(overall_g)\n",
    "stde     = sqrt((1 - h2)/h2 *varg)\n",
    "\n",
    "\n",
    "y                      = overall_g + randn(number_individual)*stde # I use the 0.5 h2 since the original 0.6 h2 is mimic real biological situation\n",
    "println(\"varaince for g: \",var(overall_g))\n",
    "println(\"varaince for y: \",var(y))\n",
    "\n",
    "\n",
    "MSU_simu_phen = DataFrame(ID=ID,y=y,g = overall_g );\n",
    "#CSV.write( data_path*\"MSU_simu_pheno_protein_coding_QTL.csv\" , MSU_simu_phen)"
   ]
  },
  {
   "cell_type": "markdown",
   "id": "tutorial-bathroom",
   "metadata": {},
   "source": [
    "### Check the marker variance and genetic variance"
   ]
  },
  {
   "cell_type": "code",
   "execution_count": 31,
   "id": "wound-patent",
   "metadata": {},
   "outputs": [
    {
     "data": {
      "text/plain": [
       "0.006324806976875542"
      ]
     },
     "execution_count": 31,
     "metadata": {},
     "output_type": "execute_result"
    }
   ],
   "source": [
    "# define some prior parameter\n",
    "\n",
    "geno = new_genotype\n",
    "pi = 0.99\n",
    "h2 = 0.5\n",
    "number_markers = size(geno,2) - 1 # compute the number of marker, -1 since the ID column\n",
    "\n",
    "# compute the genetic variance from the phenotypic variance\n",
    "phenotypic_var = var(MSU_simu_phen[!,:y])\n",
    "genetic_var = phenotypic_var*h2\n",
    "markerMeans = mean(Matrix(geno[!,2:end]), dims=1)\n",
    "p = markerMeans/2.0\n",
    "mean2pq = mean(2*transpose(p) .* (1 .- transpose(p) ))\n",
    "var_effects = genetic_var/(number_markers *(1-pi)* mean2pq )"
   ]
  },
  {
   "cell_type": "code",
   "execution_count": 79,
   "id": "helpful-ready",
   "metadata": {},
   "outputs": [
    {
     "data": {
      "text/plain": [
       "1.0016514018977138"
      ]
     },
     "execution_count": 79,
     "metadata": {},
     "output_type": "execute_result"
    }
   ],
   "source": [
    "genetic_var"
   ]
  }
 ],
 "metadata": {
  "kernelspec": {
   "display_name": "Julia 1.4.1",
   "language": "julia",
   "name": "julia-1.4"
  },
  "language_info": {
   "file_extension": ".jl",
   "mimetype": "application/julia",
   "name": "julia",
   "version": "1.4.1"
  }
 },
 "nbformat": 4,
 "nbformat_minor": 5
}
